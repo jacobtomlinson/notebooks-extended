{
 "cells": [
  {
   "cell_type": "code",
   "execution_count": 6,
   "metadata": {},
   "outputs": [
    {
     "data": {
      "text/html": [
       "<table style=\"border: 2px solid white;\">\n",
       "<tr>\n",
       "<td style=\"vertical-align: top; border: 0px solid white\">\n",
       "<h3>Client</h3>\n",
       "<ul>\n",
       "  <li><b>Scheduler: </b>tcp://localhost:8786\n",
       "  <li><b>Dashboard: </b><a href='http://localhost:8787/status' target='_blank'>http://localhost:8787/status</a>\n",
       "</ul>\n",
       "</td>\n",
       "<td style=\"vertical-align: top; border: 0px solid white\">\n",
       "<h3>Cluster</h3>\n",
       "<ul>\n",
       "  <li><b>Workers: </b>6</li>\n",
       "  <li><b>Cores: </b>6</li>\n",
       "  <li><b>Memory: </b>0 B</li>\n",
       "</ul>\n",
       "</td>\n",
       "</tr>\n",
       "</table>"
      ],
      "text/plain": [
       "<Client: scheduler='tcp://10.0.0.5:8786' processes=6 cores=6>"
      ]
     },
     "execution_count": 6,
     "metadata": {},
     "output_type": "execute_result"
    }
   ],
   "source": [
    "import distributed\n",
    "client = distributed.Client('tcp://localhost:8786')\n",
    "client.restart()\n",
    "client"
   ]
  },
  {
   "cell_type": "code",
   "execution_count": 8,
   "metadata": {},
   "outputs": [],
   "source": [
    "import dask\n",
    "ts = dask.datasets.timeseries()\n",
    "ts = ts.persist()\n",
    "client.publish_dataset(timeseries=ts)"
   ]
  },
  {
   "cell_type": "code",
   "execution_count": 10,
   "metadata": {},
   "outputs": [
    {
     "ename": "ValueError",
     "evalue": "Inputs contain futures that were created by another client.",
     "output_type": "error",
     "traceback": [
      "\u001b[0;31m---------------------------------------------------------------------------\u001b[0m",
      "\u001b[0;31mValueError\u001b[0m                                Traceback (most recent call last)",
      "\u001b[0;32m<ipython-input-10-29db2e90858b>\u001b[0m in \u001b[0;36m<module>\u001b[0;34m\u001b[0m\n\u001b[1;32m      4\u001b[0m         \u001b[0;32mreturn\u001b[0m \u001b[0mclient\u001b[0m\u001b[0;34m.\u001b[0m\u001b[0mget_dataset\u001b[0m\u001b[0;34m(\u001b[0m\u001b[0;34m'timeseries'\u001b[0m\u001b[0;34m)\u001b[0m\u001b[0;34m.\u001b[0m\u001b[0mcompute\u001b[0m\u001b[0;34m(\u001b[0m\u001b[0;34m)\u001b[0m\u001b[0;34m\u001b[0m\u001b[0;34m\u001b[0m\u001b[0m\n\u001b[1;32m      5\u001b[0m \u001b[0;34m\u001b[0m\u001b[0m\n\u001b[0;32m----> 6\u001b[0;31m \u001b[0mclient\u001b[0m\u001b[0;34m.\u001b[0m\u001b[0msubmit\u001b[0m\u001b[0;34m(\u001b[0m\u001b[0mget_ts\u001b[0m\u001b[0;34m)\u001b[0m\u001b[0;34m.\u001b[0m\u001b[0mresult\u001b[0m\u001b[0;34m(\u001b[0m\u001b[0;34m)\u001b[0m\u001b[0;34m\u001b[0m\u001b[0;34m\u001b[0m\u001b[0m\n\u001b[0m",
      "\u001b[0;32m~/miniconda3/envs/kdd-demo/lib/python3.7/site-packages/distributed/client.py\u001b[0m in \u001b[0;36mresult\u001b[0;34m(self, timeout)\u001b[0m\n\u001b[1;32m    226\u001b[0m         \u001b[0mresult\u001b[0m \u001b[0;34m=\u001b[0m \u001b[0mself\u001b[0m\u001b[0;34m.\u001b[0m\u001b[0mclient\u001b[0m\u001b[0;34m.\u001b[0m\u001b[0msync\u001b[0m\u001b[0;34m(\u001b[0m\u001b[0mself\u001b[0m\u001b[0;34m.\u001b[0m\u001b[0m_result\u001b[0m\u001b[0;34m,\u001b[0m \u001b[0mcallback_timeout\u001b[0m\u001b[0;34m=\u001b[0m\u001b[0mtimeout\u001b[0m\u001b[0;34m,\u001b[0m \u001b[0mraiseit\u001b[0m\u001b[0;34m=\u001b[0m\u001b[0;32mFalse\u001b[0m\u001b[0;34m)\u001b[0m\u001b[0;34m\u001b[0m\u001b[0;34m\u001b[0m\u001b[0m\n\u001b[1;32m    227\u001b[0m         \u001b[0;32mif\u001b[0m \u001b[0mself\u001b[0m\u001b[0;34m.\u001b[0m\u001b[0mstatus\u001b[0m \u001b[0;34m==\u001b[0m \u001b[0;34m\"error\"\u001b[0m\u001b[0;34m:\u001b[0m\u001b[0;34m\u001b[0m\u001b[0;34m\u001b[0m\u001b[0m\n\u001b[0;32m--> 228\u001b[0;31m             \u001b[0msix\u001b[0m\u001b[0;34m.\u001b[0m\u001b[0mreraise\u001b[0m\u001b[0;34m(\u001b[0m\u001b[0;34m*\u001b[0m\u001b[0mresult\u001b[0m\u001b[0;34m)\u001b[0m\u001b[0;34m\u001b[0m\u001b[0;34m\u001b[0m\u001b[0m\n\u001b[0m\u001b[1;32m    229\u001b[0m         \u001b[0;32melif\u001b[0m \u001b[0mself\u001b[0m\u001b[0;34m.\u001b[0m\u001b[0mstatus\u001b[0m \u001b[0;34m==\u001b[0m \u001b[0;34m\"cancelled\"\u001b[0m\u001b[0;34m:\u001b[0m\u001b[0;34m\u001b[0m\u001b[0;34m\u001b[0m\u001b[0m\n\u001b[1;32m    230\u001b[0m             \u001b[0;32mraise\u001b[0m \u001b[0mresult\u001b[0m\u001b[0;34m\u001b[0m\u001b[0;34m\u001b[0m\u001b[0m\n",
      "\u001b[0;32m~/miniconda3/envs/kdd-demo/lib/python3.7/site-packages/six.py\u001b[0m in \u001b[0;36mreraise\u001b[0;34m(tp, value, tb)\u001b[0m\n\u001b[1;32m    690\u001b[0m                 \u001b[0mvalue\u001b[0m \u001b[0;34m=\u001b[0m \u001b[0mtp\u001b[0m\u001b[0;34m(\u001b[0m\u001b[0;34m)\u001b[0m\u001b[0;34m\u001b[0m\u001b[0;34m\u001b[0m\u001b[0m\n\u001b[1;32m    691\u001b[0m             \u001b[0;32mif\u001b[0m \u001b[0mvalue\u001b[0m\u001b[0;34m.\u001b[0m\u001b[0m__traceback__\u001b[0m \u001b[0;32mis\u001b[0m \u001b[0;32mnot\u001b[0m \u001b[0mtb\u001b[0m\u001b[0;34m:\u001b[0m\u001b[0;34m\u001b[0m\u001b[0;34m\u001b[0m\u001b[0m\n\u001b[0;32m--> 692\u001b[0;31m                 \u001b[0;32mraise\u001b[0m \u001b[0mvalue\u001b[0m\u001b[0;34m.\u001b[0m\u001b[0mwith_traceback\u001b[0m\u001b[0;34m(\u001b[0m\u001b[0mtb\u001b[0m\u001b[0;34m)\u001b[0m\u001b[0;34m\u001b[0m\u001b[0;34m\u001b[0m\u001b[0m\n\u001b[0m\u001b[1;32m    693\u001b[0m             \u001b[0;32mraise\u001b[0m \u001b[0mvalue\u001b[0m\u001b[0;34m\u001b[0m\u001b[0;34m\u001b[0m\u001b[0m\n\u001b[1;32m    694\u001b[0m         \u001b[0;32mfinally\u001b[0m\u001b[0;34m:\u001b[0m\u001b[0;34m\u001b[0m\u001b[0;34m\u001b[0m\u001b[0m\n",
      "\u001b[0;32m<ipython-input-10-29db2e90858b>\u001b[0m in \u001b[0;36mget_ts\u001b[0;34m()\u001b[0m\n\u001b[1;32m      2\u001b[0m     \u001b[0;32mfrom\u001b[0m \u001b[0mdask\u001b[0m\u001b[0;34m.\u001b[0m\u001b[0mdistributed\u001b[0m \u001b[0;32mimport\u001b[0m \u001b[0mget_client\u001b[0m\u001b[0;34m\u001b[0m\u001b[0;34m\u001b[0m\u001b[0m\n\u001b[1;32m      3\u001b[0m     \u001b[0;32mwith\u001b[0m \u001b[0mget_client\u001b[0m\u001b[0;34m(\u001b[0m\u001b[0;34m)\u001b[0m \u001b[0;32mas\u001b[0m \u001b[0mclient\u001b[0m\u001b[0;34m:\u001b[0m\u001b[0;34m\u001b[0m\u001b[0;34m\u001b[0m\u001b[0m\n\u001b[0;32m----> 4\u001b[0;31m         \u001b[0;32mreturn\u001b[0m \u001b[0mclient\u001b[0m\u001b[0;34m.\u001b[0m\u001b[0mget_dataset\u001b[0m\u001b[0;34m(\u001b[0m\u001b[0;34m'timeseries'\u001b[0m\u001b[0;34m)\u001b[0m\u001b[0;34m.\u001b[0m\u001b[0mcompute\u001b[0m\u001b[0;34m(\u001b[0m\u001b[0;34m)\u001b[0m\u001b[0;34m\u001b[0m\u001b[0;34m\u001b[0m\u001b[0m\n\u001b[0m\u001b[1;32m      5\u001b[0m \u001b[0;34m\u001b[0m\u001b[0m\n\u001b[1;32m      6\u001b[0m \u001b[0mclient\u001b[0m\u001b[0;34m.\u001b[0m\u001b[0msubmit\u001b[0m\u001b[0;34m(\u001b[0m\u001b[0mget_ts\u001b[0m\u001b[0;34m)\u001b[0m\u001b[0;34m.\u001b[0m\u001b[0mresult\u001b[0m\u001b[0;34m(\u001b[0m\u001b[0;34m)\u001b[0m\u001b[0;34m\u001b[0m\u001b[0;34m\u001b[0m\u001b[0m\n",
      "\u001b[0;32m/azureml-envs/azureml_108c8779dd3d62ee6ed16c05a391d08f/lib/python3.7/site-packages/dask/base.py\u001b[0m in \u001b[0;36mcompute\u001b[0;34m()\u001b[0m\n",
      "\u001b[0;32m/azureml-envs/azureml_108c8779dd3d62ee6ed16c05a391d08f/lib/python3.7/site-packages/dask/base.py\u001b[0m in \u001b[0;36mcompute\u001b[0;34m()\u001b[0m\n",
      "\u001b[0;32m/azureml-envs/azureml_108c8779dd3d62ee6ed16c05a391d08f/lib/python3.7/site-packages/distributed/client.py\u001b[0m in \u001b[0;36mget\u001b[0;34m()\u001b[0m\n",
      "\u001b[0;32m/azureml-envs/azureml_108c8779dd3d62ee6ed16c05a391d08f/lib/python3.7/site-packages/distributed/client.py\u001b[0m in \u001b[0;36m_graph_to_futures\u001b[0;34m()\u001b[0m\n",
      "\u001b[0;31mValueError\u001b[0m: Inputs contain futures that were created by another client."
     ]
    }
   ],
   "source": [
    "def get_ts():\n",
    "    from dask.distributed import get_client\n",
    "    with get_client() as client:\n",
    "        return client.get_dataset('timeseries').compute()\n",
    "\n",
    "client.submit(get_ts).result()"
   ]
  },
  {
   "cell_type": "code",
   "execution_count": 11,
   "metadata": {},
   "outputs": [
    {
     "data": {
      "text/plain": [
       "'2.1.0'"
      ]
     },
     "execution_count": 11,
     "metadata": {},
     "output_type": "execute_result"
    }
   ],
   "source": [
    "dask.__version__"
   ]
  },
  {
   "cell_type": "code",
   "execution_count": 12,
   "metadata": {},
   "outputs": [
    {
     "data": {
      "text/plain": [
       "'2.1.0'"
      ]
     },
     "execution_count": 12,
     "metadata": {},
     "output_type": "execute_result"
    }
   ],
   "source": [
    "distributed.__version__"
   ]
  },
  {
   "cell_type": "code",
   "execution_count": 14,
   "metadata": {},
   "outputs": [
    {
     "data": {
      "text/plain": [
       "{'tcp://10.0.0.4:35865': '2.0.1+1.gf8af742',\n",
       " 'tcp://10.0.0.4:44045': '2.0.1+1.gf8af742',\n",
       " 'tcp://10.0.0.5:42095': '2.0.1+1.gf8af742',\n",
       " 'tcp://10.0.0.5:43847': '2.0.1+1.gf8af742',\n",
       " 'tcp://10.0.0.6:39575': '2.0.1+1.gf8af742',\n",
       " 'tcp://10.0.0.6:42227': '2.0.1+1.gf8af742'}"
      ]
     },
     "execution_count": 14,
     "metadata": {},
     "output_type": "execute_result"
    }
   ],
   "source": [
    "client.run(lambda: distributed.__version__)"
   ]
  },
  {
   "cell_type": "code",
   "execution_count": 15,
   "metadata": {},
   "outputs": [
    {
     "data": {
      "text/plain": [
       "{'tcp://10.0.0.4:35865': '2.2.0',\n",
       " 'tcp://10.0.0.4:44045': '2.2.0',\n",
       " 'tcp://10.0.0.5:42095': '2.2.0',\n",
       " 'tcp://10.0.0.5:43847': '2.2.0',\n",
       " 'tcp://10.0.0.6:39575': '2.2.0',\n",
       " 'tcp://10.0.0.6:42227': '2.2.0'}"
      ]
     },
     "execution_count": 15,
     "metadata": {},
     "output_type": "execute_result"
    },
    {
     "name": "stderr",
     "output_type": "stream",
     "text": [
      "distributed.utils - ERROR - Timeout\n",
      "Traceback (most recent call last):\n",
      "  File \"/home/nfs/jtomlinson/miniconda3/envs/kdd-demo/lib/python3.7/site-packages/distributed/utils.py\", line 714, in log_errors\n",
      "    tblib.pickling_support.install()\n",
      "  File \"/home/nfs/jtomlinson/miniconda3/envs/kdd-demo/lib/python3.7/site-packages/distributed/client.py\", line 994, in _reconnect\n",
      "    \"seconds, closing client\",\n",
      "  File \"/home/nfs/jtomlinson/miniconda3/envs/kdd-demo/lib/python3.7/site-packages/tornado/gen.py\", line 735, in run\n",
      "    value = future.result()\n",
      "  File \"/home/nfs/jtomlinson/miniconda3/envs/kdd-demo/lib/python3.7/site-packages/tornado/gen.py\", line 742, in run\n",
      "    yielded = self.gen.throw(*exc_info)  # type: ignore\n",
      "  File \"/home/nfs/jtomlinson/miniconda3/envs/kdd-demo/lib/python3.7/site-packages/distributed/client.py\", line 1029, in _ensure_connected\n",
      "    else:\n",
      "  File \"/home/nfs/jtomlinson/miniconda3/envs/kdd-demo/lib/python3.7/site-packages/tornado/gen.py\", line 735, in run\n",
      "    value = future.result()\n",
      "tornado.util.TimeoutError: Timeout\n",
      "distributed.utils - ERROR - Timeout\n",
      "Traceback (most recent call last):\n",
      "  File \"/home/nfs/jtomlinson/miniconda3/envs/kdd-demo/lib/python3.7/site-packages/distributed/utils.py\", line 714, in log_errors\n",
      "    tblib.pickling_support.install()\n",
      "  File \"/home/nfs/jtomlinson/miniconda3/envs/kdd-demo/lib/python3.7/site-packages/distributed/client.py\", line 1139, in _handle_report\n",
      "  File \"/home/nfs/jtomlinson/miniconda3/envs/kdd-demo/lib/python3.7/site-packages/tornado/gen.py\", line 735, in run\n",
      "    value = future.result()\n",
      "  File \"/home/nfs/jtomlinson/miniconda3/envs/kdd-demo/lib/python3.7/site-packages/tornado/gen.py\", line 742, in run\n",
      "    yielded = self.gen.throw(*exc_info)  # type: ignore\n",
      "  File \"/home/nfs/jtomlinson/miniconda3/envs/kdd-demo/lib/python3.7/site-packages/distributed/client.py\", line 994, in _reconnect\n",
      "    \"seconds, closing client\",\n",
      "  File \"/home/nfs/jtomlinson/miniconda3/envs/kdd-demo/lib/python3.7/site-packages/tornado/gen.py\", line 735, in run\n",
      "    value = future.result()\n",
      "  File \"/home/nfs/jtomlinson/miniconda3/envs/kdd-demo/lib/python3.7/site-packages/tornado/gen.py\", line 742, in run\n",
      "    yielded = self.gen.throw(*exc_info)  # type: ignore\n",
      "  File \"/home/nfs/jtomlinson/miniconda3/envs/kdd-demo/lib/python3.7/site-packages/distributed/client.py\", line 1029, in _ensure_connected\n",
      "    else:\n",
      "  File \"/home/nfs/jtomlinson/miniconda3/envs/kdd-demo/lib/python3.7/site-packages/tornado/gen.py\", line 735, in run\n",
      "    value = future.result()\n",
      "tornado.util.TimeoutError: Timeout\n",
      "distributed.utils - ERROR - Timeout\n",
      "Traceback (most recent call last):\n",
      "  File \"/home/nfs/jtomlinson/miniconda3/envs/kdd-demo/lib/python3.7/site-packages/distributed/utils.py\", line 714, in log_errors\n",
      "    tblib.pickling_support.install()\n",
      "  File \"/home/nfs/jtomlinson/miniconda3/envs/kdd-demo/lib/python3.7/site-packages/distributed/client.py\", line 994, in _reconnect\n",
      "    \"seconds, closing client\",\n",
      "  File \"/home/nfs/jtomlinson/miniconda3/envs/kdd-demo/lib/python3.7/site-packages/tornado/gen.py\", line 735, in run\n",
      "    value = future.result()\n",
      "  File \"/home/nfs/jtomlinson/miniconda3/envs/kdd-demo/lib/python3.7/site-packages/tornado/gen.py\", line 742, in run\n",
      "    yielded = self.gen.throw(*exc_info)  # type: ignore\n",
      "  File \"/home/nfs/jtomlinson/miniconda3/envs/kdd-demo/lib/python3.7/site-packages/distributed/client.py\", line 1029, in _ensure_connected\n",
      "    else:\n",
      "  File \"/home/nfs/jtomlinson/miniconda3/envs/kdd-demo/lib/python3.7/site-packages/tornado/gen.py\", line 735, in run\n",
      "    value = future.result()\n",
      "tornado.util.TimeoutError: Timeout\n",
      "distributed.utils - ERROR - Timeout\n",
      "Traceback (most recent call last):\n",
      "  File \"/home/nfs/jtomlinson/miniconda3/envs/kdd-demo/lib/python3.7/site-packages/distributed/utils.py\", line 714, in log_errors\n",
      "    tblib.pickling_support.install()\n",
      "  File \"/home/nfs/jtomlinson/miniconda3/envs/kdd-demo/lib/python3.7/site-packages/distributed/client.py\", line 1139, in _handle_report\n",
      "  File \"/home/nfs/jtomlinson/miniconda3/envs/kdd-demo/lib/python3.7/site-packages/tornado/gen.py\", line 735, in run\n",
      "    value = future.result()\n",
      "  File \"/home/nfs/jtomlinson/miniconda3/envs/kdd-demo/lib/python3.7/site-packages/tornado/gen.py\", line 742, in run\n",
      "    yielded = self.gen.throw(*exc_info)  # type: ignore\n",
      "  File \"/home/nfs/jtomlinson/miniconda3/envs/kdd-demo/lib/python3.7/site-packages/distributed/client.py\", line 994, in _reconnect\n",
      "    \"seconds, closing client\",\n",
      "  File \"/home/nfs/jtomlinson/miniconda3/envs/kdd-demo/lib/python3.7/site-packages/tornado/gen.py\", line 735, in run\n",
      "    value = future.result()\n",
      "  File \"/home/nfs/jtomlinson/miniconda3/envs/kdd-demo/lib/python3.7/site-packages/tornado/gen.py\", line 742, in run\n",
      "    yielded = self.gen.throw(*exc_info)  # type: ignore\n",
      "  File \"/home/nfs/jtomlinson/miniconda3/envs/kdd-demo/lib/python3.7/site-packages/distributed/client.py\", line 1029, in _ensure_connected\n",
      "    else:\n",
      "  File \"/home/nfs/jtomlinson/miniconda3/envs/kdd-demo/lib/python3.7/site-packages/tornado/gen.py\", line 735, in run\n",
      "    value = future.result()\n",
      "tornado.util.TimeoutError: Timeout\n"
     ]
    }
   ],
   "source": [
    "client.run(lambda: dask.__version__)"
   ]
  },
  {
   "cell_type": "code",
   "execution_count": 16,
   "metadata": {},
   "outputs": [
    {
     "ename": "OSError",
     "evalue": "Timed out trying to connect to 'tcp://127.0.0.1:8786' after 3 s: in <distributed.comm.tcp.TCPConnector object at 0x7f6a49d4b748>: ConnectionRefusedError: [Errno 111] Connection refused",
     "output_type": "error",
     "traceback": [
      "\u001b[0;31m---------------------------------------------------------------------------\u001b[0m",
      "\u001b[0;31mOSError\u001b[0m                                   Traceback (most recent call last)",
      "\u001b[0;32m<ipython-input-16-f150117a12ee>\u001b[0m in \u001b[0;36m<module>\u001b[0;34m\u001b[0m\n\u001b[1;32m     12\u001b[0m         \u001b[0;32mreturn\u001b[0m \u001b[0mclient\u001b[0m\u001b[0;34m.\u001b[0m\u001b[0mget_dataset\u001b[0m\u001b[0;34m(\u001b[0m\u001b[0;34m'timeseries'\u001b[0m\u001b[0;34m)\u001b[0m\u001b[0;34m.\u001b[0m\u001b[0mcompute\u001b[0m\u001b[0;34m(\u001b[0m\u001b[0;34m)\u001b[0m\u001b[0;34m\u001b[0m\u001b[0;34m\u001b[0m\u001b[0m\n\u001b[1;32m     13\u001b[0m \u001b[0;34m\u001b[0m\u001b[0m\n\u001b[0;32m---> 14\u001b[0;31m \u001b[0mclient\u001b[0m\u001b[0;34m.\u001b[0m\u001b[0msubmit\u001b[0m\u001b[0;34m(\u001b[0m\u001b[0mget_ts\u001b[0m\u001b[0;34m)\u001b[0m\u001b[0;34m.\u001b[0m\u001b[0mresult\u001b[0m\u001b[0;34m(\u001b[0m\u001b[0;34m)\u001b[0m\u001b[0;34m\u001b[0m\u001b[0;34m\u001b[0m\u001b[0m\n\u001b[0m",
      "\u001b[0;32m~/miniconda3/envs/kdd-demo/lib/python3.7/site-packages/distributed/client.py\u001b[0m in \u001b[0;36mresult\u001b[0;34m(self, timeout)\u001b[0m\n\u001b[1;32m    226\u001b[0m \u001b[0;34m\u001b[0m\u001b[0m\n\u001b[1;32m    227\u001b[0m     \u001b[0;32masync\u001b[0m \u001b[0;32mdef\u001b[0m \u001b[0m_result\u001b[0m\u001b[0;34m(\u001b[0m\u001b[0mself\u001b[0m\u001b[0;34m,\u001b[0m \u001b[0mraiseit\u001b[0m\u001b[0;34m=\u001b[0m\u001b[0;32mTrue\u001b[0m\u001b[0;34m)\u001b[0m\u001b[0;34m:\u001b[0m\u001b[0;34m\u001b[0m\u001b[0;34m\u001b[0m\u001b[0m\n\u001b[0;32m--> 228\u001b[0;31m         \u001b[0;32mawait\u001b[0m \u001b[0mself\u001b[0m\u001b[0;34m.\u001b[0m\u001b[0m_state\u001b[0m\u001b[0;34m.\u001b[0m\u001b[0mwait\u001b[0m\u001b[0;34m(\u001b[0m\u001b[0;34m)\u001b[0m\u001b[0;34m\u001b[0m\u001b[0;34m\u001b[0m\u001b[0m\n\u001b[0m\u001b[1;32m    229\u001b[0m         \u001b[0;32mif\u001b[0m \u001b[0mself\u001b[0m\u001b[0;34m.\u001b[0m\u001b[0mstatus\u001b[0m \u001b[0;34m==\u001b[0m \u001b[0;34m\"error\"\u001b[0m\u001b[0;34m:\u001b[0m\u001b[0;34m\u001b[0m\u001b[0;34m\u001b[0m\u001b[0m\n\u001b[1;32m    230\u001b[0m             \u001b[0mexc\u001b[0m \u001b[0;34m=\u001b[0m \u001b[0mclean_exception\u001b[0m\u001b[0;34m(\u001b[0m\u001b[0mself\u001b[0m\u001b[0;34m.\u001b[0m\u001b[0m_state\u001b[0m\u001b[0;34m.\u001b[0m\u001b[0mexception\u001b[0m\u001b[0;34m,\u001b[0m \u001b[0mself\u001b[0m\u001b[0;34m.\u001b[0m\u001b[0m_state\u001b[0m\u001b[0;34m.\u001b[0m\u001b[0mtraceback\u001b[0m\u001b[0;34m)\u001b[0m\u001b[0;34m\u001b[0m\u001b[0;34m\u001b[0m\u001b[0m\n",
      "\u001b[0;32m~/miniconda3/envs/kdd-demo/lib/python3.7/site-packages/six.py\u001b[0m in \u001b[0;36mreraise\u001b[0;34m(tp, value, tb)\u001b[0m\n\u001b[1;32m    690\u001b[0m                 \u001b[0mvalue\u001b[0m \u001b[0;34m=\u001b[0m \u001b[0mtp\u001b[0m\u001b[0;34m(\u001b[0m\u001b[0;34m)\u001b[0m\u001b[0;34m\u001b[0m\u001b[0;34m\u001b[0m\u001b[0m\n\u001b[1;32m    691\u001b[0m             \u001b[0;32mif\u001b[0m \u001b[0mvalue\u001b[0m\u001b[0;34m.\u001b[0m\u001b[0m__traceback__\u001b[0m \u001b[0;32mis\u001b[0m \u001b[0;32mnot\u001b[0m \u001b[0mtb\u001b[0m\u001b[0;34m:\u001b[0m\u001b[0;34m\u001b[0m\u001b[0;34m\u001b[0m\u001b[0m\n\u001b[0;32m--> 692\u001b[0;31m                 \u001b[0;32mraise\u001b[0m \u001b[0mvalue\u001b[0m\u001b[0;34m.\u001b[0m\u001b[0mwith_traceback\u001b[0m\u001b[0;34m(\u001b[0m\u001b[0mtb\u001b[0m\u001b[0;34m)\u001b[0m\u001b[0;34m\u001b[0m\u001b[0;34m\u001b[0m\u001b[0m\n\u001b[0m\u001b[1;32m    693\u001b[0m             \u001b[0;32mraise\u001b[0m \u001b[0mvalue\u001b[0m\u001b[0;34m\u001b[0m\u001b[0;34m\u001b[0m\u001b[0m\n\u001b[1;32m    694\u001b[0m         \u001b[0;32mfinally\u001b[0m\u001b[0;34m:\u001b[0m\u001b[0;34m\u001b[0m\u001b[0;34m\u001b[0m\u001b[0m\n",
      "\u001b[0;32m<ipython-input-16-f150117a12ee>\u001b[0m in \u001b[0;36mget_ts\u001b[0;34m()\u001b[0m\n\u001b[1;32m     10\u001b[0m     \u001b[0;32mfrom\u001b[0m \u001b[0mdask\u001b[0m\u001b[0;34m.\u001b[0m\u001b[0mdistributed\u001b[0m \u001b[0;32mimport\u001b[0m \u001b[0mget_client\u001b[0m\u001b[0;34m\u001b[0m\u001b[0;34m\u001b[0m\u001b[0m\n\u001b[1;32m     11\u001b[0m     \u001b[0;32mwith\u001b[0m \u001b[0mget_client\u001b[0m\u001b[0;34m(\u001b[0m\u001b[0;34m)\u001b[0m \u001b[0;32mas\u001b[0m \u001b[0mclient\u001b[0m\u001b[0;34m:\u001b[0m\u001b[0;34m\u001b[0m\u001b[0;34m\u001b[0m\u001b[0m\n\u001b[0;32m---> 12\u001b[0;31m         \u001b[0;32mreturn\u001b[0m \u001b[0mclient\u001b[0m\u001b[0;34m.\u001b[0m\u001b[0mget_dataset\u001b[0m\u001b[0;34m(\u001b[0m\u001b[0;34m'timeseries'\u001b[0m\u001b[0;34m)\u001b[0m\u001b[0;34m.\u001b[0m\u001b[0mcompute\u001b[0m\u001b[0;34m(\u001b[0m\u001b[0;34m)\u001b[0m\u001b[0;34m\u001b[0m\u001b[0;34m\u001b[0m\u001b[0m\n\u001b[0m\u001b[1;32m     13\u001b[0m \u001b[0;34m\u001b[0m\u001b[0m\n\u001b[1;32m     14\u001b[0m \u001b[0mclient\u001b[0m\u001b[0;34m.\u001b[0m\u001b[0msubmit\u001b[0m\u001b[0;34m(\u001b[0m\u001b[0mget_ts\u001b[0m\u001b[0;34m)\u001b[0m\u001b[0;34m.\u001b[0m\u001b[0mresult\u001b[0m\u001b[0;34m(\u001b[0m\u001b[0;34m)\u001b[0m\u001b[0;34m\u001b[0m\u001b[0;34m\u001b[0m\u001b[0m\n",
      "\u001b[0;32m/azureml-envs/azureml_6a19563bf66cfec4669d7cdb3a7c9a8b/lib/python3.7/site-packages/distributed/client.py\u001b[0m in \u001b[0;36mget_dataset\u001b[0;34m()\u001b[0m\n",
      "\u001b[0;32m/azureml-envs/azureml_6a19563bf66cfec4669d7cdb3a7c9a8b/lib/python3.7/site-packages/distributed/client.py\u001b[0m in \u001b[0;36msync\u001b[0;34m()\u001b[0m\n",
      "\u001b[0;32m/azureml-envs/azureml_6a19563bf66cfec4669d7cdb3a7c9a8b/lib/python3.7/site-packages/distributed/utils.py\u001b[0m in \u001b[0;36msync\u001b[0;34m()\u001b[0m\n",
      "\u001b[0;32m/azureml-envs/azureml_6a19563bf66cfec4669d7cdb3a7c9a8b/lib/python3.7/site-packages/six.py\u001b[0m in \u001b[0;36mreraise\u001b[0;34m()\u001b[0m\n",
      "\u001b[0;32m/azureml-envs/azureml_6a19563bf66cfec4669d7cdb3a7c9a8b/lib/python3.7/site-packages/distributed/utils.py\u001b[0m in \u001b[0;36mf\u001b[0;34m()\u001b[0m\n",
      "\u001b[0;32m/azureml-envs/azureml_6a19563bf66cfec4669d7cdb3a7c9a8b/lib/python3.7/site-packages/tornado/gen.py\u001b[0m in \u001b[0;36mrun\u001b[0;34m()\u001b[0m\n",
      "\u001b[0;32m/azureml-envs/azureml_6a19563bf66cfec4669d7cdb3a7c9a8b/lib/python3.7/site-packages/distributed/client.py\u001b[0m in \u001b[0;36m_get_dataset\u001b[0;34m()\u001b[0m\n",
      "\u001b[0;32m/azureml-envs/azureml_6a19563bf66cfec4669d7cdb3a7c9a8b/lib/python3.7/site-packages/distributed/core.py\u001b[0m in \u001b[0;36msend_recv_from_rpc\u001b[0;34m()\u001b[0m\n",
      "\u001b[0;32m/azureml-envs/azureml_6a19563bf66cfec4669d7cdb3a7c9a8b/lib/python3.7/site-packages/distributed/core.py\u001b[0m in \u001b[0;36msend_recv\u001b[0;34m()\u001b[0m\n",
      "\u001b[0;32m/azureml-envs/azureml_6a19563bf66cfec4669d7cdb3a7c9a8b/lib/python3.7/site-packages/distributed/comm/tcp.py\u001b[0m in \u001b[0;36mread\u001b[0;34m()\u001b[0m\n",
      "\u001b[0;32m/azureml-envs/azureml_6a19563bf66cfec4669d7cdb3a7c9a8b/lib/python3.7/site-packages/tornado/gen.py\u001b[0m in \u001b[0;36mwrapper\u001b[0;34m()\u001b[0m\n",
      "\u001b[0;32m/azureml-envs/azureml_6a19563bf66cfec4669d7cdb3a7c9a8b/lib/python3.7/site-packages/distributed/comm/utils.py\u001b[0m in \u001b[0;36mfrom_frames\u001b[0;34m()\u001b[0m\n",
      "\u001b[0;32m/azureml-envs/azureml_6a19563bf66cfec4669d7cdb3a7c9a8b/lib/python3.7/site-packages/distributed/comm/utils.py\u001b[0m in \u001b[0;36m_from_frames\u001b[0;34m()\u001b[0m\n",
      "\u001b[0;32m/azureml-envs/azureml_6a19563bf66cfec4669d7cdb3a7c9a8b/lib/python3.7/site-packages/distributed/protocol/core.py\u001b[0m in \u001b[0;36mloads\u001b[0;34m()\u001b[0m\n",
      "\u001b[0;32m/azureml-envs/azureml_6a19563bf66cfec4669d7cdb3a7c9a8b/lib/python3.7/site-packages/distributed/protocol/serialize.py\u001b[0m in \u001b[0;36mdeserialize\u001b[0;34m()\u001b[0m\n",
      "\u001b[0;32m/azureml-envs/azureml_6a19563bf66cfec4669d7cdb3a7c9a8b/lib/python3.7/site-packages/distributed/protocol/serialize.py\u001b[0m in \u001b[0;36mpickle_loads\u001b[0;34m()\u001b[0m\n",
      "\u001b[0;32m/azureml-envs/azureml_6a19563bf66cfec4669d7cdb3a7c9a8b/lib/python3.7/site-packages/distributed/protocol/pickle.py\u001b[0m in \u001b[0;36mloads\u001b[0;34m()\u001b[0m\n",
      "\u001b[0;32m/azureml-envs/azureml_6a19563bf66cfec4669d7cdb3a7c9a8b/lib/python3.7/site-packages/distributed/client.py\u001b[0m in \u001b[0;36m__setstate__\u001b[0;34m()\u001b[0m\n",
      "\u001b[0;32m/azureml-envs/azureml_6a19563bf66cfec4669d7cdb3a7c9a8b/lib/python3.7/site-packages/distributed/worker.py\u001b[0m in \u001b[0;36mget_client\u001b[0;34m()\u001b[0m\n",
      "\u001b[0;32m/azureml-envs/azureml_6a19563bf66cfec4669d7cdb3a7c9a8b/lib/python3.7/site-packages/distributed/client.py\u001b[0m in \u001b[0;36m__init__\u001b[0;34m()\u001b[0m\n",
      "\u001b[0;32m/azureml-envs/azureml_6a19563bf66cfec4669d7cdb3a7c9a8b/lib/python3.7/site-packages/distributed/client.py\u001b[0m in \u001b[0;36mstart\u001b[0;34m()\u001b[0m\n",
      "\u001b[0;32m/azureml-envs/azureml_6a19563bf66cfec4669d7cdb3a7c9a8b/lib/python3.7/site-packages/distributed/utils.py\u001b[0m in \u001b[0;36msync\u001b[0;34m()\u001b[0m\n",
      "\u001b[0;32m/azureml-envs/azureml_6a19563bf66cfec4669d7cdb3a7c9a8b/lib/python3.7/site-packages/six.py\u001b[0m in \u001b[0;36mreraise\u001b[0;34m()\u001b[0m\n",
      "\u001b[0;32m/azureml-envs/azureml_6a19563bf66cfec4669d7cdb3a7c9a8b/lib/python3.7/site-packages/distributed/utils.py\u001b[0m in \u001b[0;36mf\u001b[0;34m()\u001b[0m\n",
      "\u001b[0;32m/azureml-envs/azureml_6a19563bf66cfec4669d7cdb3a7c9a8b/lib/python3.7/site-packages/tornado/gen.py\u001b[0m in \u001b[0;36mrun\u001b[0;34m()\u001b[0m\n",
      "\u001b[0;32m/azureml-envs/azureml_6a19563bf66cfec4669d7cdb3a7c9a8b/lib/python3.7/site-packages/distributed/client.py\u001b[0m in \u001b[0;36m_start\u001b[0;34m()\u001b[0m\n",
      "\u001b[0;32m/azureml-envs/azureml_6a19563bf66cfec4669d7cdb3a7c9a8b/lib/python3.7/site-packages/distributed/client.py\u001b[0m in \u001b[0;36m_ensure_connected\u001b[0;34m()\u001b[0m\n",
      "\u001b[0;32m/azureml-envs/azureml_6a19563bf66cfec4669d7cdb3a7c9a8b/lib/python3.7/site-packages/distributed/comm/core.py\u001b[0m in \u001b[0;36mconnect\u001b[0;34m()\u001b[0m\n",
      "\u001b[0;32m/azureml-envs/azureml_6a19563bf66cfec4669d7cdb3a7c9a8b/lib/python3.7/site-packages/distributed/comm/core.py\u001b[0m in \u001b[0;36m_raise\u001b[0;34m()\u001b[0m\n",
      "\u001b[0;31mOSError\u001b[0m: Timed out trying to connect to 'tcp://127.0.0.1:8786' after 3 s: in <distributed.comm.tcp.TCPConnector object at 0x7f6a49d4b748>: ConnectionRefusedError: [Errno 111] Connection refused"
     ]
    },
    {
     "name": "stderr",
     "output_type": "stream",
     "text": [
      "distributed.utils - ERROR - Timeout\n",
      "Traceback (most recent call last):\n",
      "  File \"/home/nfs/jtomlinson/miniconda3/envs/kdd-demo/lib/python3.7/site-packages/distributed/utils.py\", line 714, in log_errors\n",
      "    tblib.pickling_support.install()\n",
      "  File \"/home/nfs/jtomlinson/miniconda3/envs/kdd-demo/lib/python3.7/site-packages/distributed/client.py\", line 994, in _reconnect\n",
      "    \"seconds, closing client\",\n",
      "  File \"/home/nfs/jtomlinson/miniconda3/envs/kdd-demo/lib/python3.7/site-packages/tornado/gen.py\", line 735, in run\n",
      "    value = future.result()\n",
      "  File \"/home/nfs/jtomlinson/miniconda3/envs/kdd-demo/lib/python3.7/site-packages/tornado/gen.py\", line 742, in run\n",
      "    yielded = self.gen.throw(*exc_info)  # type: ignore\n",
      "  File \"/home/nfs/jtomlinson/miniconda3/envs/kdd-demo/lib/python3.7/site-packages/distributed/client.py\", line 1029, in _ensure_connected\n",
      "    else:\n",
      "  File \"/home/nfs/jtomlinson/miniconda3/envs/kdd-demo/lib/python3.7/site-packages/tornado/gen.py\", line 735, in run\n",
      "    value = future.result()\n",
      "tornado.util.TimeoutError: Timeout\n",
      "distributed.utils - ERROR - Timeout\n",
      "Traceback (most recent call last):\n",
      "  File \"/home/nfs/jtomlinson/miniconda3/envs/kdd-demo/lib/python3.7/site-packages/distributed/utils.py\", line 714, in log_errors\n",
      "    tblib.pickling_support.install()\n",
      "  File \"/home/nfs/jtomlinson/miniconda3/envs/kdd-demo/lib/python3.7/site-packages/distributed/client.py\", line 1139, in _handle_report\n",
      "  File \"/home/nfs/jtomlinson/miniconda3/envs/kdd-demo/lib/python3.7/site-packages/tornado/gen.py\", line 735, in run\n",
      "    value = future.result()\n",
      "  File \"/home/nfs/jtomlinson/miniconda3/envs/kdd-demo/lib/python3.7/site-packages/tornado/gen.py\", line 742, in run\n",
      "    yielded = self.gen.throw(*exc_info)  # type: ignore\n",
      "  File \"/home/nfs/jtomlinson/miniconda3/envs/kdd-demo/lib/python3.7/site-packages/distributed/client.py\", line 994, in _reconnect\n",
      "    \"seconds, closing client\",\n",
      "  File \"/home/nfs/jtomlinson/miniconda3/envs/kdd-demo/lib/python3.7/site-packages/tornado/gen.py\", line 735, in run\n",
      "    value = future.result()\n",
      "  File \"/home/nfs/jtomlinson/miniconda3/envs/kdd-demo/lib/python3.7/site-packages/tornado/gen.py\", line 742, in run\n",
      "    yielded = self.gen.throw(*exc_info)  # type: ignore\n",
      "  File \"/home/nfs/jtomlinson/miniconda3/envs/kdd-demo/lib/python3.7/site-packages/distributed/client.py\", line 1029, in _ensure_connected\n",
      "    else:\n",
      "  File \"/home/nfs/jtomlinson/miniconda3/envs/kdd-demo/lib/python3.7/site-packages/tornado/gen.py\", line 735, in run\n",
      "    value = future.result()\n",
      "tornado.util.TimeoutError: Timeout\n"
     ]
    }
   ],
   "source": [
    "import distributed\n",
    "client = distributed.Client('tcp://localhost:8786')\n",
    "\n",
    "import dask\n",
    "ts = dask.datasets.timeseries()\n",
    "ts = ts.persist()\n",
    "client.publish_dataset(timeseries=ts)\n",
    "\n",
    "def get_ts():\n",
    "    from dask.distributed import get_client\n",
    "    with get_client() as client:\n",
    "        return client.get_dataset('timeseries').compute()\n",
    "\n",
    "client.submit(get_ts).result()"
   ]
  },
  {
   "cell_type": "code",
   "execution_count": null,
   "metadata": {},
   "outputs": [],
   "source": []
  }
 ],
 "metadata": {
  "kernelspec": {
   "display_name": "Python 3",
   "language": "python",
   "name": "python3"
  },
  "language_info": {
   "codemirror_mode": {
    "name": "ipython",
    "version": 3
   },
   "file_extension": ".py",
   "mimetype": "text/x-python",
   "name": "python",
   "nbconvert_exporter": "python",
   "pygments_lexer": "ipython3",
   "version": "3.7.3"
  }
 },
 "nbformat": 4,
 "nbformat_minor": 4
}
